{
 "cells": [
  {
   "cell_type": "markdown",
   "metadata": {
    "_uuid": "44528bc36e2a332ab99b510e1ff84f38334d3213"
   },
   "source": [
    "# CNN Model for Fashion MNIST dataset"
   ]
  },
  {
   "cell_type": "markdown",
   "metadata": {},
   "source": [
    "Here you will implement a Convolutional Neural Network on the Fashion MNIST Dataset. You can download the dataset [here](https://github.com/zalandoresearch/fashion-mnist/tree/master/data)\n",
    "\n",
    "Head over to [this cell](#5) to complete the Neural Network. Subsequently, train the model on the trainnig set, plot the accuracy and loss, make predicitons on the test set and plot the confusion matrix."
   ]
  },
  {
   "cell_type": "markdown",
   "metadata": {
    "_uuid": "5072e8d7ce611676d8db51c3f3e5b2a446afcfc7"
   },
   "source": [
    "## Let's take a look at the dataset!"
   ]
  },
  {
   "cell_type": "markdown",
   "metadata": {
    "_uuid": "32ada5fe58395b02269d0fa4dba4ff3fbbe4e4b8"
   },
   "source": [
    "<img src=\"https://github.com/zalandoresearch/fashion-mnist/raw/master/doc/img/embedding.gif\" alt=\"cce\" border=\"0\">"
   ]
  },
  {
   "cell_type": "markdown",
   "metadata": {
    "_uuid": "42530d4f545bde7ea0a197c68d84ed83caa680be"
   },
   "source": [
    "<img src=\"https://github.com/zalandoresearch/fashion-mnist/raw/master/doc/img/fashion-mnist-sprite.png\" alt=\"cce\" border=\"0\">"
   ]
  },
  {
   "cell_type": "markdown",
   "metadata": {
    "_uuid": "ea0ead0b5c37ecd6dd1cce99204c2b9ae8f351d8"
   },
   "source": [
    "### Contents\n",
    "* [Introduction](#1)\n",
    "* [Loading the Data Set](#2)\n",
    "* [Normalization, Reshape and Label Encoding](#3)\n",
    "* [Train-Test Split](#4)\n",
    "* [Convolutional Neural Network(Implementing with Keras)](#5)\n",
    "* [Define Optimizer](#6)\n",
    "* [Compile Model](#7)\n",
    "* [Epochs and Batch Size](#8)\n",
    "* [Data Augmentation](#9)\n",
    "* [Fit the Model](#10)\n",
    "* [Evaluate the model](#11)\n",
    "* [Predict For Random Sample](#12)\n",
    "* [Reading,Resizing and Testing the test image](#13)\n",
    "* [Confusion Matrix](#14)\n",
    "* [Conclusion](#15)"
   ]
  },
  {
   "cell_type": "markdown",
   "metadata": {
    "_uuid": "76358d2f576a33d342af25df54a60a3ba3d22d0d"
   },
   "source": [
    "<a id=\"1\"></a> <br>\n",
    "# INTRODUCTION\n",
    "* **In this kernel, we will be working on Fashion MNIST Dataset (Implementing with Keras).**"
   ]
  },
  {
   "cell_type": "code",
   "execution_count": 1,
   "metadata": {
    "_cell_guid": "b1076dfc-b9ad-4769-8c92-a6c4dae69d19",
    "_uuid": "8f2839f25d086af736a60e9eeb907d3b93b6e0e5"
   },
   "outputs": [
    {
     "name": "stdout",
     "output_type": "stream",
     "text": [
      "['fashion-mnist_test.csv', 'fashion-mnist_train.csv', 't10k-images-idx3-ubyte', 't10k-labels-idx1-ubyte', 'train-images-idx3-ubyte', 'train-labels-idx1-ubyte']\n"
     ]
    }
   ],
   "source": [
    "import numpy as np # linear algebra\n",
    "import pandas as pd # data processing, CSV file I/O (e.g. pd.read_csv)\n",
    "import matplotlib.pyplot as plt\n",
    "import seaborn as sns\n",
    "\n",
    "# import warnings\n",
    "import warnings\n",
    "# filter warnings\n",
    "warnings.filterwarnings('ignore')\n",
    "# Input data files are available in the \"../input/\" directory.\n",
    "# For example, running this (by clicking run or pressing Shift+Enter) will list the files in the input directory\n",
    "\n",
    "import os\n",
    "print(os.listdir(\"./Fashion_MNIST\"))\n",
    "\n",
    "# Any results you write to the current directory are saved as output."
   ]
  },
  {
   "cell_type": "markdown",
   "metadata": {
    "_kg_hide-output": false,
    "_uuid": "cfa7d8f153a8e4401e2007793d6dc26f983196e6"
   },
   "source": [
    "<a id=\"2\"></a> <br>\n",
    "## Loading the Data Set\n",
    "* **In this part we load and visualize the data.**"
   ]
  },
  {
   "cell_type": "code",
   "execution_count": 2,
   "metadata": {
    "_uuid": "c67c5a3c61b03351ff049d5505cbea5079aaf577"
   },
   "outputs": [
    {
     "name": "stdout",
     "output_type": "stream",
     "text": [
      "(60000, 785)\n"
     ]
    }
   ],
   "source": [
    "#reading train dataset\n",
    "train = pd.read_csv(\"./Fashion_MNIST/fashion-mnist_train.csv\")\n",
    "print(train.shape)"
   ]
  },
  {
   "cell_type": "code",
   "execution_count": 3,
   "metadata": {
    "_uuid": "be61aeea61aaa64c09d31886e0db0fe909e325bf"
   },
   "outputs": [
    {
     "data": {
      "text/html": [
       "<div>\n",
       "<style scoped>\n",
       "    .dataframe tbody tr th:only-of-type {\n",
       "        vertical-align: middle;\n",
       "    }\n",
       "\n",
       "    .dataframe tbody tr th {\n",
       "        vertical-align: top;\n",
       "    }\n",
       "\n",
       "    .dataframe thead th {\n",
       "        text-align: right;\n",
       "    }\n",
       "</style>\n",
       "<table border=\"1\" class=\"dataframe\">\n",
       "  <thead>\n",
       "    <tr style=\"text-align: right;\">\n",
       "      <th></th>\n",
       "      <th>label</th>\n",
       "      <th>pixel1</th>\n",
       "      <th>pixel2</th>\n",
       "      <th>pixel3</th>\n",
       "      <th>pixel4</th>\n",
       "      <th>pixel5</th>\n",
       "      <th>pixel6</th>\n",
       "      <th>pixel7</th>\n",
       "      <th>pixel8</th>\n",
       "      <th>pixel9</th>\n",
       "      <th>...</th>\n",
       "      <th>pixel775</th>\n",
       "      <th>pixel776</th>\n",
       "      <th>pixel777</th>\n",
       "      <th>pixel778</th>\n",
       "      <th>pixel779</th>\n",
       "      <th>pixel780</th>\n",
       "      <th>pixel781</th>\n",
       "      <th>pixel782</th>\n",
       "      <th>pixel783</th>\n",
       "      <th>pixel784</th>\n",
       "    </tr>\n",
       "  </thead>\n",
       "  <tbody>\n",
       "    <tr>\n",
       "      <th>0</th>\n",
       "      <td>2</td>\n",
       "      <td>0</td>\n",
       "      <td>0</td>\n",
       "      <td>0</td>\n",
       "      <td>0</td>\n",
       "      <td>0</td>\n",
       "      <td>0</td>\n",
       "      <td>0</td>\n",
       "      <td>0</td>\n",
       "      <td>0</td>\n",
       "      <td>...</td>\n",
       "      <td>0</td>\n",
       "      <td>0</td>\n",
       "      <td>0</td>\n",
       "      <td>0</td>\n",
       "      <td>0</td>\n",
       "      <td>0</td>\n",
       "      <td>0</td>\n",
       "      <td>0</td>\n",
       "      <td>0</td>\n",
       "      <td>0</td>\n",
       "    </tr>\n",
       "    <tr>\n",
       "      <th>1</th>\n",
       "      <td>9</td>\n",
       "      <td>0</td>\n",
       "      <td>0</td>\n",
       "      <td>0</td>\n",
       "      <td>0</td>\n",
       "      <td>0</td>\n",
       "      <td>0</td>\n",
       "      <td>0</td>\n",
       "      <td>0</td>\n",
       "      <td>0</td>\n",
       "      <td>...</td>\n",
       "      <td>0</td>\n",
       "      <td>0</td>\n",
       "      <td>0</td>\n",
       "      <td>0</td>\n",
       "      <td>0</td>\n",
       "      <td>0</td>\n",
       "      <td>0</td>\n",
       "      <td>0</td>\n",
       "      <td>0</td>\n",
       "      <td>0</td>\n",
       "    </tr>\n",
       "    <tr>\n",
       "      <th>2</th>\n",
       "      <td>6</td>\n",
       "      <td>0</td>\n",
       "      <td>0</td>\n",
       "      <td>0</td>\n",
       "      <td>0</td>\n",
       "      <td>0</td>\n",
       "      <td>0</td>\n",
       "      <td>0</td>\n",
       "      <td>5</td>\n",
       "      <td>0</td>\n",
       "      <td>...</td>\n",
       "      <td>0</td>\n",
       "      <td>0</td>\n",
       "      <td>0</td>\n",
       "      <td>30</td>\n",
       "      <td>43</td>\n",
       "      <td>0</td>\n",
       "      <td>0</td>\n",
       "      <td>0</td>\n",
       "      <td>0</td>\n",
       "      <td>0</td>\n",
       "    </tr>\n",
       "    <tr>\n",
       "      <th>3</th>\n",
       "      <td>0</td>\n",
       "      <td>0</td>\n",
       "      <td>0</td>\n",
       "      <td>0</td>\n",
       "      <td>1</td>\n",
       "      <td>2</td>\n",
       "      <td>0</td>\n",
       "      <td>0</td>\n",
       "      <td>0</td>\n",
       "      <td>0</td>\n",
       "      <td>...</td>\n",
       "      <td>3</td>\n",
       "      <td>0</td>\n",
       "      <td>0</td>\n",
       "      <td>0</td>\n",
       "      <td>0</td>\n",
       "      <td>1</td>\n",
       "      <td>0</td>\n",
       "      <td>0</td>\n",
       "      <td>0</td>\n",
       "      <td>0</td>\n",
       "    </tr>\n",
       "    <tr>\n",
       "      <th>4</th>\n",
       "      <td>3</td>\n",
       "      <td>0</td>\n",
       "      <td>0</td>\n",
       "      <td>0</td>\n",
       "      <td>0</td>\n",
       "      <td>0</td>\n",
       "      <td>0</td>\n",
       "      <td>0</td>\n",
       "      <td>0</td>\n",
       "      <td>0</td>\n",
       "      <td>...</td>\n",
       "      <td>0</td>\n",
       "      <td>0</td>\n",
       "      <td>0</td>\n",
       "      <td>0</td>\n",
       "      <td>0</td>\n",
       "      <td>0</td>\n",
       "      <td>0</td>\n",
       "      <td>0</td>\n",
       "      <td>0</td>\n",
       "      <td>0</td>\n",
       "    </tr>\n",
       "  </tbody>\n",
       "</table>\n",
       "<p>5 rows × 785 columns</p>\n",
       "</div>"
      ],
      "text/plain": [
       "   label  pixel1  pixel2  pixel3  pixel4  pixel5  pixel6  pixel7  pixel8  \\\n",
       "0      2       0       0       0       0       0       0       0       0   \n",
       "1      9       0       0       0       0       0       0       0       0   \n",
       "2      6       0       0       0       0       0       0       0       5   \n",
       "3      0       0       0       0       1       2       0       0       0   \n",
       "4      3       0       0       0       0       0       0       0       0   \n",
       "\n",
       "   pixel9  ...  pixel775  pixel776  pixel777  pixel778  pixel779  pixel780  \\\n",
       "0       0  ...         0         0         0         0         0         0   \n",
       "1       0  ...         0         0         0         0         0         0   \n",
       "2       0  ...         0         0         0        30        43         0   \n",
       "3       0  ...         3         0         0         0         0         1   \n",
       "4       0  ...         0         0         0         0         0         0   \n",
       "\n",
       "   pixel781  pixel782  pixel783  pixel784  \n",
       "0         0         0         0         0  \n",
       "1         0         0         0         0  \n",
       "2         0         0         0         0  \n",
       "3         0         0         0         0  \n",
       "4         0         0         0         0  \n",
       "\n",
       "[5 rows x 785 columns]"
      ]
     },
     "execution_count": 3,
     "metadata": {},
     "output_type": "execute_result"
    }
   ],
   "source": [
    "# let's look at first five train samples\n",
    "train.head()"
   ]
  },
  {
   "cell_type": "markdown",
   "metadata": {
    "_uuid": "b6680ab90d9f19de19b4d7cbf86128003f96e476"
   },
   "source": [
    "* **For example,let's look at first sample pixel values**"
   ]
  },
  {
   "cell_type": "code",
   "execution_count": 4,
   "metadata": {
    "_uuid": "9fd35eeb01fcbc1e583223fbe7c54d8f9ce25c70"
   },
   "outputs": [
    {
     "data": {
      "text/plain": [
       "0      306\n",
       "213     21\n",
       "207     20\n",
       "210     20\n",
       "208     17\n",
       "      ... \n",
       "137      1\n",
       "135      1\n",
       "129      1\n",
       "123      1\n",
       "179      1\n",
       "Name: 0, Length: 126, dtype: int64"
      ]
     },
     "execution_count": 4,
     "metadata": {},
     "output_type": "execute_result"
    }
   ],
   "source": [
    "train.iloc[0].value_counts()"
   ]
  },
  {
   "cell_type": "code",
   "execution_count": 5,
   "metadata": {
    "_uuid": "c22026863b7f56e183537d9c901e0c5642d05a93"
   },
   "outputs": [
    {
     "name": "stdout",
     "output_type": "stream",
     "text": [
      "(10000, 785)\n"
     ]
    }
   ],
   "source": [
    "# reading test dataset\n",
    "test = pd.read_csv(\"./Fashion_MNIST/fashion-mnist_test.csv\")\n",
    "print(test.shape)"
   ]
  },
  {
   "cell_type": "code",
   "execution_count": 6,
   "metadata": {
    "_uuid": "2d9203a6751980f256d9992fb6c5f09f919a04ce"
   },
   "outputs": [],
   "source": [
    "# put labels into Y_train variable\n",
    "Y_train = train[\"label\"].values\n",
    "# Drop 'label' column\n",
    "X_train = train.drop(labels = [\"label\"], axis = 1)"
   ]
  },
  {
   "cell_type": "code",
   "execution_count": 7,
   "metadata": {
    "_uuid": "14d12bc63b325f054a02a93d702d4b99225147a6"
   },
   "outputs": [],
   "source": [
    "# put labels into Y_test variable\n",
    "Y_test = test[\"label\"].values\n",
    "# Drop 'label' column\n",
    "X_test = test.drop(labels = [\"label\"], axis = 1)"
   ]
  },
  {
   "cell_type": "code",
   "execution_count": 8,
   "metadata": {
    "_uuid": "98cef1541adedcd3304361ba10ace2d4c2fe22f7"
   },
   "outputs": [
    {
     "data": {
      "text/plain": [
       "<matplotlib.image.AxesImage at 0x1d085c97148>"
      ]
     },
     "execution_count": 8,
     "metadata": {},
     "output_type": "execute_result"
    },
    {
     "data": {
      "image/png": "[encoded data removed]",
      "text/plain": [
       "<Figure size 288x288 with 1 Axes>"
      ]
     },
     "metadata": {
      "needs_background": "light"
     },
     "output_type": "display_data"
    }
   ],
   "source": [
    "# plot some samples\n",
    "plt.figure(figsize=(4,4))\n",
    "plt.title(Y_train[0])\n",
    "plt.imshow(X_train.values.reshape(-1,28,28)[0],cmap=\"gray\")"
   ]
  },
  {
   "cell_type": "code",
   "execution_count": 9,
   "metadata": {
    "_uuid": "cf649d2f9836e512722aded878687e15bca13720"
   },
   "outputs": [
    {
     "data": {
      "text/plain": [
       "<matplotlib.image.AxesImage at 0x1d085d11648>"
      ]
     },
     "execution_count": 9,
     "metadata": {},
     "output_type": "execute_result"
    },
    {
     "data": {
      "image/png": "[encoded data removed]",
      "text/plain": [
       "<Figure size 288x288 with 1 Axes>"
      ]
     },
     "metadata": {
      "needs_background": "light"
     },
     "output_type": "display_data"
    }
   ],
   "source": [
    "# plot some samples\n",
    "plt.figure(figsize=(4,4))\n",
    "plt.title(Y_train[17])\n",
    "plt.imshow(X_train.values.reshape(-1,28,28)[17],cmap=\"gray\")"
   ]
  },
  {
   "cell_type": "code",
   "execution_count": 10,
   "metadata": {
    "_uuid": "33c20b427e95a23b887b098b0edfa2a807880ef8"
   },
   "outputs": [
    {
     "data": {
      "image/png": "[encoded data removed]",
      "text/plain": [
       "<Figure size 1008x576 with 10 Axes>"
      ]
     },
     "metadata": {
      "needs_background": "light"
     },
     "output_type": "display_data"
    }
   ],
   "source": [
    "plt.figure(figsize = (14,8))\n",
    "\n",
    "for i in range(10):\n",
    "    plt.subplot(2, 5, i+1)\n",
    "    img = train[train.label == i].iloc[0, 1:].values\n",
    "    img = img.reshape((28,28))\n",
    "    plt.imshow(img, cmap='gray')\n",
    "    plt.title(\"Class: \" + str(i))\n",
    "    plt.axis('off')\n",
    "    \n",
    "plt.show()"
   ]
  },
  {
   "cell_type": "markdown",
   "metadata": {
    "_uuid": "507556f11de1ccc98c8cdc165e522157f1ab5c2c"
   },
   "source": [
    "<a id=\"3\"></a> <br>\n",
    "## Normalization, Reshape and Label Encoding \n",
    "* **Normalization**\n",
    "    * We perform a grayscale normalization to reduce the effect of illumination's differences.\n",
    "    * If we perform normalization, CNN works faster.\n",
    "* **Reshaping**\n",
    "    * Train and test images (28 x 28) \n",
    "    * We reshape all data to 28x28x1 3D matrices.\n",
    "    * Keras needs an extra dimension in the end which correspond to channels. Our images are gray scaled so it use only one channel. \n",
    "* **Label Encoding**\n",
    "    * Encode labels to one hot vectors \n",
    "        * 2 => [0,0,1,0,0,0,0,0,0,0]\n",
    "        * 4 => [0,0,0,0,1,0,0,0,0,0]"
   ]
  },
  {
   "cell_type": "code",
   "execution_count": 11,
   "metadata": {
    "_uuid": "1f59b93f6f395b11433cecc1893b16209b2a007a"
   },
   "outputs": [
    {
     "name": "stdout",
     "output_type": "stream",
     "text": [
      "X_train shape:  (60000, 784)\n",
      "X_test shape:  (10000, 784)\n"
     ]
    }
   ],
   "source": [
    "# Normalize the data\n",
    "X_train = X_train / 255.0\n",
    "X_test = X_test / 255.0\n",
    "print(\"X_train shape: \",X_train.shape)\n",
    "print(\"X_test shape: \",X_test.shape)"
   ]
  },
  {
   "cell_type": "code",
   "execution_count": 12,
   "metadata": {
    "_uuid": "04e3cb5505820bc4ae7a491cee2ede8e9a1cf67f"
   },
   "outputs": [
    {
     "name": "stdout",
     "output_type": "stream",
     "text": [
      "X_train shape:  (60000, 28, 28, 1)\n",
      "X_test shape:  (10000, 28, 28, 1)\n"
     ]
    }
   ],
   "source": [
    "# Reshaping\n",
    "X_train = X_train.values.reshape(-1,28,28,1)\n",
    "X_test = X_test.values.reshape(-1,28,28,1)\n",
    "print(\"X_train shape: \",X_train.shape)\n",
    "print(\"X_test shape: \",X_test.shape)"
   ]
  },
  {
   "cell_type": "code",
   "execution_count": 13,
   "metadata": {
    "_uuid": "5f540e9e3f5578aae7b5d7754b1c8fc7190581ed"
   },
   "outputs": [
    {
     "name": "stdout",
     "output_type": "stream",
     "text": [
      "(60000, 10)\n",
      "(10000, 10)\n"
     ]
    }
   ],
   "source": [
    "# Label Encoding (be careful! run just once!)\n",
    "from keras.utils.np_utils import to_categorical \n",
    "\n",
    "# convert to one-hot-encoding(one hot vectors)\n",
    "Y_train = to_categorical(Y_train, num_classes = 10)\n",
    "# convert to one-hot-encoding(one hot vectors)\n",
    "Y_test = to_categorical(Y_test, num_classes = 10)\n",
    "\n",
    "print(Y_train.shape)\n",
    "print(Y_test.shape)"
   ]
  },
  {
   "cell_type": "markdown",
   "metadata": {
    "_uuid": "fe090c403d548519d860a9ce3b861cf3a8593e9d"
   },
   "source": [
    "<a id=\"4\"></a>\n",
    "## Train-Test Split\n",
    "* **We split the data into train and test sets.**\n",
    "* **test size is 10%.**\n",
    "* **train size is 90%.**"
   ]
  },
  {
   "cell_type": "code",
   "execution_count": 14,
   "metadata": {
    "_uuid": "99d0d3a2b67b6b591ec625276e7ddbe0c4390b4e"
   },
   "outputs": [
    {
     "name": "stdout",
     "output_type": "stream",
     "text": [
      "x_train shape:  (54000, 28, 28, 1)\n",
      "x_val shape:  (6000, 28, 28, 1)\n",
      "y_train shape:  (54000, 10)\n",
      "y_val shape : (6000, 10)\n"
     ]
    }
   ],
   "source": [
    "# Split the train and the validation set for the fitting\n",
    "from sklearn.model_selection import train_test_split\n",
    "x_train, x_val, y_train, y_val = train_test_split(X_train, Y_train, test_size = 0.1, random_state = 2)\n",
    "print(\"x_train shape: \",x_train.shape)\n",
    "print(\"x_val shape: \",x_val.shape)\n",
    "print(\"y_train shape: \",y_train.shape)\n",
    "print(\"y_val shape :\",y_val.shape)"
   ]
  },
  {
   "cell_type": "code",
   "execution_count": 15,
   "metadata": {
    "_uuid": "1ccd43bc97b3f908ff01099ade6b8030c24f930e"
   },
   "outputs": [
    {
     "data": {
      "image/png": "[encoded data removed]",
      "text/plain": [
       "<Figure size 432x288 with 1 Axes>"
      ]
     },
     "metadata": {
      "needs_background": "light"
     },
     "output_type": "display_data"
    }
   ],
   "source": [
    "# Some examples\n",
    "plt.imshow(x_train[4].reshape(28,28),cmap=\"gray\")\n",
    "plt.axis(\"off\")\n",
    "plt.show()"
   ]
  },
  {
   "cell_type": "markdown",
   "metadata": {
    "_uuid": "80eccf7031cb0020185898c09bec2c6a2288eec2"
   },
   "source": [
    "<a id=\"5\"></a>\n",
    "## Convolutional Neural Network "
   ]
  },
  {
   "cell_type": "markdown",
   "metadata": {
    "_uuid": "8e46b5ff20b423279fc3a75e4f8ac40cf38ff22c"
   },
   "source": [
    "## Implementing with Keras"
   ]
  },
  {
   "cell_type": "code",
   "execution_count": 16,
   "metadata": {
    "_uuid": "ce10e9a012c550546b529183abd66ab075ff4ad8"
   },
   "outputs": [],
   "source": [
    "import warnings\n",
    "warnings.filterwarnings('ignore')\n",
    "\n",
    "from sklearn.metrics import confusion_matrix\n",
    "\n",
    "from keras.models import Sequential, model_from_json\n",
    "from keras.layers import Dense, Conv2D, Activation, MaxPool2D, Flatten, Dropout, BatchNormalization\n",
    "from keras.optimizers import RMSprop,Adam\n",
    "from keras.preprocessing import image\n",
    "from keras.preprocessing.image import ImageDataGenerator\n",
    "from keras.callbacks import ModelCheckpoint\n",
    "\n",
    "model = Sequential()\n",
    "\n",
    "#1. LAYER\n",
    "model.add(Conv2D(filters = 16, kernel_size = (3,3), padding = 'Same', input_shape=(28, 28, 1)))\n",
    "model.add(BatchNormalization())\n",
    "model.add(Activation(\"relu\"))\n",
    "\n",
    "# the model is incomplete, you need to add more layers here!\n",
    "\n",
    "#FULLY CONNECTED LAYER\n",
    "model.add(Flatten())\n",
    "model.add(Dense(256))\n",
    "model.add(BatchNormalization())\n",
    "model.add(Activation(\"relu\"))\n",
    "model.add(Dropout(0.25))\n",
    "\n",
    "#OUTPUT LAYER\n",
    "model.add(Dense(10, activation='softmax'))"
   ]
  },
  {
   "cell_type": "code",
   "execution_count": 17,
   "metadata": {
    "_uuid": "58fd25b66c22aaeeb62e06b3e674b457eba2a4c9"
   },
   "outputs": [
    {
     "name": "stdout",
     "output_type": "stream",
     "text": [
      "Model: \"sequential\"\n",
      "_________________________________________________________________\n",
      "Layer (type)                 Output Shape              Param #   \n",
      "=================================================================\n",
      "conv2d (Conv2D)              (None, 28, 28, 32)        320       \n",
      "_________________________________________________________________\n",
      "batch_normalization (BatchNo (None, 28, 28, 32)        128       \n",
      "_________________________________________________________________\n",
      "activation (Activation)      (None, 28, 28, 32)        0         \n",
      "_________________________________________________________________\n",
      "conv2d_1 (Conv2D)            (None, 28, 28, 32)        9248      \n",
      "_________________________________________________________________\n",
      "batch_normalization_1 (Batch (None, 28, 28, 32)        128       \n",
      "_________________________________________________________________\n",
      "activation_1 (Activation)    (None, 28, 28, 32)        0         \n",
      "_________________________________________________________________\n",
      "max_pooling2d (MaxPooling2D) (None, 14, 14, 32)        0         \n",
      "_________________________________________________________________\n",
      "conv2d_2 (Conv2D)            (None, 14, 14, 64)        18496     \n",
      "_________________________________________________________________\n",
      "batch_normalization_2 (Batch (None, 14, 14, 64)        256       \n",
      "_________________________________________________________________\n",
      "activation_2 (Activation)    (None, 14, 14, 64)        0         \n",
      "_________________________________________________________________\n",
      "conv2d_3 (Conv2D)            (None, 14, 14, 64)        36928     \n",
      "_________________________________________________________________\n",
      "batch_normalization_3 (Batch (None, 14, 14, 64)        256       \n",
      "_________________________________________________________________\n",
      "activation_3 (Activation)    (None, 14, 14, 64)        0         \n",
      "_________________________________________________________________\n",
      "max_pooling2d_1 (MaxPooling2 (None, 7, 7, 64)          0         \n",
      "_________________________________________________________________\n",
      "flatten (Flatten)            (None, 3136)              0         \n",
      "_________________________________________________________________\n",
      "dense (Dense)                (None, 256)               803072    \n",
      "_________________________________________________________________\n",
      "batch_normalization_4 (Batch (None, 256)               1024      \n",
      "_________________________________________________________________\n",
      "activation_4 (Activation)    (None, 256)               0         \n",
      "_________________________________________________________________\n",
      "dropout (Dropout)            (None, 256)               0         \n",
      "_________________________________________________________________\n",
      "dense_1 (Dense)              (None, 10)                2570      \n",
      "=================================================================\n",
      "Total params: 872,426\n",
      "Trainable params: 871,530\n",
      "Non-trainable params: 896\n",
      "_________________________________________________________________\n"
     ]
    }
   ],
   "source": [
    "model.summary()"
   ]
  },
  {
   "cell_type": "markdown",
   "metadata": {
    "_uuid": "d5f185d71fab014f4af4a8d917a8b33ce5e0dcb8"
   },
   "source": [
    "<a id=\"6\"></a>\n",
    "### Define Optimizer   \n",
    "* **Adam optimizer: Change the learning rate**"
   ]
  },
  {
   "cell_type": "code",
   "execution_count": 18,
   "metadata": {
    "_uuid": "40b63722a499f57758797c3a3ea51ea605664678"
   },
   "outputs": [],
   "source": [
    "optimizer = Adam(lr=0.001, beta_1=0.9, beta_2=0.999, epsilon=None, decay=0.0, amsgrad=False)"
   ]
  },
  {
   "cell_type": "code",
   "execution_count": 19,
   "metadata": {
    "_uuid": "edd1d76457264e95811f126b392441b0ac8f8de3"
   },
   "outputs": [],
   "source": [
    "# # Define the optimizer\n",
    "# optimizer = RMSprop(lr = 0.001, rho=0.9, epsilon=1e-08, decay=0.0)"
   ]
  },
  {
   "cell_type": "markdown",
   "metadata": {
    "_uuid": "71aadf8212a42f7d8c35aef64c56aef184185087"
   },
   "source": [
    "<a id=\"7\"></a>\n",
    "### Compile Model\n",
    "* **Categorical crossentropy**\n",
    "* **We make binary cross entropy at previous parts and in machine learning tutorial**\n",
    "* **At this time we use categorical crossentropy. That means that we have multiclass**\n",
    " <a href=\"https://ibb.co/jm1bpp\"><img src=\"https://preview.ibb.co/nN3ZaU/cce.jpg\" alt=\"cce\" border=\"0\"></a>"
   ]
  },
  {
   "cell_type": "code",
   "execution_count": 20,
   "metadata": {
    "_uuid": "0870d9f7c9cb523504fda975627006206a05fdcc"
   },
   "outputs": [],
   "source": [
    "# Compile the model\n",
    "model.compile(optimizer = optimizer, loss = \"categorical_crossentropy\", metrics=[\"accuracy\"])"
   ]
  },
  {
   "cell_type": "markdown",
   "metadata": {
    "_uuid": "61f30b93de33359e797e9a98ffdfb077ce443ce3"
   },
   "source": [
    "<a id=\"8\"></a>\n",
    "### Epochs and Batch Size"
   ]
  },
  {
   "cell_type": "code",
   "execution_count": 21,
   "metadata": {
    "_uuid": "bd9149b5e28d32c466db7dcb5c7be0d49b13616a"
   },
   "outputs": [],
   "source": [
    "epochs = 5 # for better result increase the epochs\n",
    "batch_size = 100"
   ]
  },
  {
   "cell_type": "markdown",
   "metadata": {
    "_uuid": "8c4bbd5a5224fe41dd8837667f6e7b2f09f03170"
   },
   "source": [
    "<a id=\"9\"></a>\n",
    "### Data Augmentation"
   ]
  },
  {
   "cell_type": "code",
   "execution_count": 22,
   "metadata": {
    "_uuid": "200d5d410bdbfb4610d19fe0b844afbf5f8ed0f7"
   },
   "outputs": [],
   "source": [
    "# Perform Data Augmentation here"
   ]
  },
  {
   "cell_type": "markdown",
   "metadata": {
    "_uuid": "b50186c35a34b1142dcb8bf9fc6922a714051a0d"
   },
   "source": [
    "<a id=\"10\"></a>\n",
    "### Fit the Model"
   ]
  },
  {
   "cell_type": "code",
   "execution_count": 23,
   "metadata": {
    "_uuid": "942560519e865b5039a6bac03ae2fd073004cc65"
   },
   "outputs": [],
   "source": [
    "# # save the best weights\n",
    "# checkpointer = ModelCheckpoint(filepath=\"../yourPath/fashion_mnist_model.h5\", verbose=1, save_best_only=True)"
   ]
  },
  {
   "cell_type": "code",
   "execution_count": 24,
   "metadata": {
    "_uuid": "ad5c98d31ea4788a56f3e1cf71a16ae22cd9d4ce",
    "scrolled": true
   },
   "outputs": [
    {
     "name": "stdout",
     "output_type": "stream",
     "text": [
      "Epoch 1/5\n",
      "540/540 - 98s - loss: 0.4990 - accuracy: 0.8137 - val_loss: 0.3392 - val_accuracy: 0.8765\n",
      "Epoch 2/5\n",
      "540/540 - 98s - loss: 0.3522 - accuracy: 0.8701 - val_loss: 0.3876 - val_accuracy: 0.8552\n",
      "Epoch 3/5\n",
      "540/540 - 93s - loss: 0.3094 - accuracy: 0.8854 - val_loss: 0.2754 - val_accuracy: 0.8957\n",
      "Epoch 4/5\n",
      "540/540 - 93s - loss: 0.2855 - accuracy: 0.8940 - val_loss: 0.2472 - val_accuracy: 0.9093\n",
      "Epoch 5/5\n",
      "540/540 - 93s - loss: 0.2686 - accuracy: 0.9005 - val_loss: 0.2574 - val_accuracy: 0.9055\n"
     ]
    }
   ],
   "source": [
    "history = model.fit(datagen.flow(x_train, y_train, batch_size=batch_size),\n",
    "                              shuffle=True, #veriler random gelip eğitilir\n",
    "                              epochs=epochs, validation_data = (x_val, y_val),\n",
    "                              verbose = 2, steps_per_epoch=x_train.shape[0] // batch_size)\n",
    "#                               callbacks=[checkpointer]) #we save the best weights with checkpointer"
   ]
  },
  {
   "cell_type": "code",
   "execution_count": 25,
   "metadata": {
    "_uuid": "892cd3a0a51efc9274abca0b6029a4c0f438e1f0"
   },
   "outputs": [],
   "source": [
    "# # save model to json\n",
    "# model_json = model.to_json() #fashion_mnist_model.h5 - I saved the file in JSON format.\n",
    "# with open(\"../yourPath/fashion_mnist_model.json\", \"w\") as json_file:\n",
    "#     json_file.write(model_json)"
   ]
  },
  {
   "cell_type": "code",
   "execution_count": 26,
   "metadata": {
    "_uuid": "445bf6e98ede72422415295c729484fea658919b"
   },
   "outputs": [],
   "source": [
    "# # load the best weights which we saved\n",
    "# model_best = load_model(\"../yourPath/fashion_mnist_model.h5\")"
   ]
  },
  {
   "cell_type": "markdown",
   "metadata": {
    "_uuid": "ee509a8f4beb78152462b75e1fe6517688e2d22c"
   },
   "source": [
    "<a id=\"11\"></a>\n",
    "## Evaluate the model\n",
    "* **Validation and Loss visualization**"
   ]
  },
  {
   "cell_type": "code",
   "execution_count": 28,
   "metadata": {
    "_uuid": "5608e6a2519e89a4f8fde37e6998f772b1e4f5f4"
   },
   "outputs": [],
   "source": [
    "# Plot the Loss and Accuracy of training Set here"
   ]
  },
  {
   "cell_type": "code",
   "execution_count": null,
   "metadata": {
    "_uuid": "dda6b5a37532ceb54855c1d9ae32d6a54fd0e34e"
   },
   "outputs": [],
   "source": [
    "#print Train accuracy of the model"
   ]
  },
  {
   "cell_type": "code",
   "execution_count": null,
   "metadata": {
    "_uuid": "8cd7b694506b84ad3c5f0e77b7f77a33ac41475a"
   },
   "outputs": [],
   "source": [
    "#print Train loss of the model"
   ]
  },
  {
   "cell_type": "code",
   "execution_count": null,
   "metadata": {
    "_uuid": "98883a4317a10f4e5fbd94b9b4c7402aa01e3b5a"
   },
   "outputs": [],
   "source": [
    "#print Validation accuracy of the model"
   ]
  },
  {
   "cell_type": "code",
   "execution_count": null,
   "metadata": {
    "_uuid": "fa117dece3d3cc38e174ee8b5f6978d685f31e86"
   },
   "outputs": [],
   "source": [
    "#print Validation loss of the model"
   ]
  },
  {
   "cell_type": "code",
   "execution_count": null,
   "metadata": {
    "_uuid": "1a45f220bc2a2e7d28958d6f48f97dd9142aa904"
   },
   "outputs": [],
   "source": [
    "'''score = model.evaluate(X_test,Y_test,verbose=0)\n",
    "print(\"Test Loss:\",score[0])\n",
    "print(\"Test Accuracy:\",score[1])'''"
   ]
  },
  {
   "cell_type": "markdown",
   "metadata": {
    "_uuid": "57b63a5c0a91b0f61db184af8f4d448c10366258"
   },
   "source": [
    "<a id=\"14\"></a>\n",
    "### Confusion Matrix"
   ]
  },
  {
   "cell_type": "code",
   "execution_count": 29,
   "metadata": {},
   "outputs": [],
   "source": [
    "#Plot the confusion matrix here#"
   ]
  },
  {
   "cell_type": "code",
   "execution_count": null,
   "metadata": {},
   "outputs": [],
   "source": []
  }
 ],
 "metadata": {
  "kernelspec": {
   "display_name": "Python 3",
   "language": "python",
   "name": "python3"
  },
  "language_info": {
   "codemirror_mode": {
    "name": "ipython",
    "version": 3
   },
   "file_extension": ".py",
   "mimetype": "text/x-python",
   "name": "python",
   "nbconvert_exporter": "python",
   "pygments_lexer": "ipython3",
   "version": "3.7.8"
  }
 },
 "nbformat": 4,
 "nbformat_minor": 1
}
